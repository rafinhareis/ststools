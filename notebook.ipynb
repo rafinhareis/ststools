{
 "cells": [
  {
   "cell_type": "code",
   "execution_count": 1,
   "metadata": {},
   "outputs": [
    {
     "name": "stdout",
     "output_type": "stream",
     "text": [
      "Software de visualizacao de arquivos de STS Nanosurf e Omicron v1.0.1\n",
      "By Rafael Reis Barreto, contato rafinhareis17@gmail.com\n",
      "Arquivos Nanosurf tipo csv (x,y,z) \n",
      "Aquivos Omicron tipo .txt ou .asc para grid. NAO MUDAR O NOME DO ARQUIVO PADRAO\n",
      "Se sentir no fundo do coracaozinho, poe meu nome no artigo =D\n"
     ]
    }
   ],
   "source": [
    "import ststools as sts"
   ]
  },
  {
   "cell_type": "code",
   "execution_count": 2,
   "metadata": {},
   "outputs": [
    {
     "name": "stdout",
     "output_type": "stream",
     "text": [
      "Nanosurf mode selected\n",
      "Files: \n",
      "D:/Doutorado/Python/Bibliotecas/ststools/Examples/Nanosurf/Thiago_COPRINUS_BRANCO0128B.csv\n",
      "D:/Doutorado/Python/Bibliotecas/ststools/Examples/Nanosurf/Thiago_COPRINUS_BRANCO01267B.csv\n",
      "D:/Doutorado/Python/Bibliotecas/ststools/Examples/Nanosurf/Thiago_COPRINUS_BRANCO01267F.csv\n",
      "Uploaded\n",
      "60\n"
     ]
    }
   ],
   "source": [
    "sts.Open_files()"
   ]
  },
  {
   "cell_type": "code",
   "execution_count": 3,
   "metadata": {},
   "outputs": [
    {
     "data": {
      "application/vnd.jupyter.widget-view+json": {
       "model_id": "823330c54fd04f959f4fe5d82e3336cf",
       "version_major": 2,
       "version_minor": 0
      },
      "text/plain": [
       "interactive(children=(IntSlider(value=0, continuous_update=False, description='Select Curve: ', layout=Layout(…"
      ]
     },
     "metadata": {},
     "output_type": "display_data"
    }
   ],
   "source": [
    "sts.Display()"
   ]
  },
  {
   "cell_type": "code",
   "execution_count": 4,
   "metadata": {},
   "outputs": [
    {
     "name": "stdout",
     "output_type": "stream",
     "text": [
      "Write down the number of the files that you DON'T want to save. Separated by comma.\n"
     ]
    },
    {
     "data": {
      "application/vnd.jupyter.widget-view+json": {
       "model_id": "91ed6a90234747ee85c97f6cb8f608ca",
       "version_major": 2,
       "version_minor": 0
      },
      "text/plain": [
       "interactive(children=(Textarea(value='', description='List of curve numbers: ', layout=Layout(width='400px'), …"
      ]
     },
     "metadata": {},
     "output_type": "display_data"
    }
   ],
   "source": [
    "sts.Save_data()"
   ]
  },
  {
   "cell_type": "code",
   "execution_count": 6,
   "metadata": {},
   "outputs": [
    {
     "data": {
      "application/vnd.jupyter.widget-view+json": {
       "model_id": "4d77d48f50c644ed93a919af304f0b0b",
       "version_major": 2,
       "version_minor": 0
      },
      "text/plain": [
       "HBox(children=(VBox(children=(Output(layout=Layout(height='600px')), IntSlider(value=10, continuous_update=Fal…"
      ]
     },
     "execution_count": 6,
     "metadata": {},
     "output_type": "execute_result"
    }
   ],
   "source": [
    "sts.Hist_plot()"
   ]
  },
  {
   "cell_type": "code",
   "execution_count": null,
   "metadata": {},
   "outputs": [
    {
     "data": {
      "application/vnd.jupyter.widget-view+json": {
       "model_id": "2b51c732904d4c9f9c33506901f036f3",
       "version_major": 2,
       "version_minor": 0
      },
      "text/plain": [
       "HBox(children=(VBox(children=(Output(layout=Layout(height='600px')), IntSlider(value=10, continuous_update=Fal…"
      ]
     },
     "execution_count": 12,
     "metadata": {},
     "output_type": "execute_result"
    }
   ],
   "source": [
    "sts.Hist_metal()"
   ]
  },
  {
   "cell_type": "code",
   "execution_count": null,
   "metadata": {},
   "outputs": [
    {
     "data": {
      "application/vnd.jupyter.widget-view+json": {
       "model_id": "cfb20dd4ff7247f38f89d91ac29027b4",
       "version_major": 2,
       "version_minor": 0
      },
      "text/plain": [
       "HBox(children=(VBox(children=(Output(layout=Layout(height='600px')),), layout=Layout(border_bottom='dashed 1px…"
      ]
     },
     "execution_count": 14,
     "metadata": {},
     "output_type": "execute_result"
    }
   ],
   "source": [
    "sts.Hist_molecule()"
   ]
  },
  {
   "cell_type": "code",
   "execution_count": null,
   "metadata": {},
   "outputs": [
    {
     "name": "stdout",
     "output_type": "stream",
     "text": [
      "Nanosurf mode selected\n",
      "File:  D:/Doutorado/Python/Bibliotecas/ststools/Examples/Nanosurf/Grid/GeS_mapa.csv\n",
      "Uploaded\n"
     ]
    }
   ],
   "source": [
    "import ststools as sts\n",
    "sts.Open_files()"
   ]
  },
  {
   "cell_type": "code",
   "execution_count": null,
   "metadata": {},
   "outputs": [
    {
     "data": {
      "application/vnd.jupyter.widget-view+json": {
       "model_id": "e99b155c9b7c41609873718684f20f23",
       "version_major": 2,
       "version_minor": 0
      },
      "text/plain": [
       "HBox(children=(VBox(children=(Output(layout=Layout(height='600px')), FloatSlider(value=0.0, continuous_update=…"
      ]
     },
     "execution_count": 6,
     "metadata": {},
     "output_type": "execute_result"
    }
   ],
   "source": [
    "sts.Grid_plot()"
   ]
  },
  {
   "cell_type": "code",
   "execution_count": null,
   "metadata": {},
   "outputs": [],
   "source": [
    "def open_file(name):\n",
    "    file = open(name, 'r', encoding='utf-8',\n",
    "                errors='ignore')  # open the file.\n",
    "    # creat a list that will be full filed with the file with a line as a list element.\n",
    "    file_list = []\n",
    "    for line in file:  # open a loop that cover the file.\n",
    "        line = line.strip('\\n')  # drop out all '\\n' contained in every line.\n",
    "        # change the spaces for a element of a list, ex: 'the energy is' --> ['the','energy','is'].\n",
    "        line = line.split()\n",
    "        file_list.append(line)  # add the line in the list file_list.\n",
    "    file.close()  # close de file.\n",
    "    return file_list\n"
   ]
  },
  {
   "cell_type": "code",
   "execution_count": null,
   "metadata": {},
   "outputs": [],
   "source": [
    "from os import walk,path,mkdir,listdir,remove,rmdir\n",
    "from pandas import read_csv, DataFrame,concat\n",
    "from numpy import array, arange, log, sqrt,meshgrid, rot90,linspace,sort\n",
    "from scipy import interpolate\n",
    "from sklearn.linear_model import LinearRegression\n",
    "from scipy.signal import savgol_filter\n",
    "import matplotlib\n",
    "import matplotlib.pyplot as plt\n",
    "from matplotlib.colors import TwoSlopeNorm\n",
    "import ipywidgets as widgets\n",
    "from tkinter import *\n",
    "from tkinter import ttk\n",
    "from tkinter import filedialog\n",
    "from tkinter.messagebox import showinfo\n",
    "from PIL import Image, ImageTk\n",
    "from urllib.request import urlopen\n",
    "import warnings\n",
    "path = 'Examples/Omicron/Grid/I(V) TraceUp Sat May 13 07_56_11 2023 [28-1]  STM_Spectroscopy STM.asc'\n",
    "\n",
    "def map_spip_temp(map_file):\n",
    "            arquivo = open_file(map_file)\n",
    "            for line in arquivo:\n",
    "                if ('z-range' in line) == True:\n",
    "                    z_range = float(line[3])*pow(10,-9)\n",
    "                elif ('z-points' in line) == True:\n",
    "                    z_points = int(line[3])                 \n",
    "                \n",
    "\n",
    "            V_start = -z_range/2\n",
    "            V_end = z_range/2\n",
    "            dv = (V_end -V_start)/(z_points)\n",
    "            V = []\n",
    "            number = V_start\n",
    "            for i in range(z_points):\n",
    "                V.append(number)\n",
    "                number+=dv\n",
    "                number  = round(number,3)\n",
    "            V = array(V)\n",
    "            return [arquivo,V]\n",
    "\n",
    "def map_spip(arquivo,delta = 5,V_thre=0):\n",
    "            matriz = []\n",
    "            i = 0\n",
    "            for line in arquivo:\n",
    "                if ('x-pixels' in line) == True:\n",
    "                    n = int(line[3])\n",
    "                elif ('y-pixels' in line) == True:\n",
    "                    m = int(line[3])\n",
    "                elif ('x-length' in line) == True:\n",
    "                    x_leng = float(line[3]) \n",
    "                elif ('y-length' in line) == True:\n",
    "                    y_leng = float(line[3])\n",
    "                elif ('x-offset' in line) == True:\n",
    "                    x_ofsset = float(line[3]) \n",
    "                elif ('y-offset' in line) == True:\n",
    "                    y_ofsset = float(line[3]) \n",
    "                elif ('z-range' in line) == True:\n",
    "                    z_range = float(line[3])*pow(10,-9)\n",
    "                elif ('z-points' in line) == True:\n",
    "                    z_points = int(line[3])                 \n",
    "                \n",
    "                elif  ('Start' in line) == True and ('of' in line) == True and ('Data:' in line) == True:\n",
    "                    break \n",
    "                i+=1\n",
    "\n",
    "            \n",
    "            dx = (x_leng)/n\n",
    "            print(x_leng,dx)\n",
    "            x = arange(-x_leng/2,x_leng/2,dx)+x_ofsset\n",
    "            dy = (y_leng)/m\n",
    "            y = arange(-y_leng/2,y_leng/2,dy)+y_ofsset\n",
    "\n",
    "\n",
    "        \n",
    "            sts_all =array(list(map(lambda x:array(list(map( lambda y:float(y),x))), arquivo[i+1:])))\n",
    "            V_points = len(sts_all[0])\n",
    "            V_start = -z_range/2\n",
    "            V_end = z_range/2\n",
    "            dv = (V_end -V_start)/(V_points)\n",
    "            V = []\n",
    "            number = V_start\n",
    "            for i in range(V_points):\n",
    "                V.append(number)\n",
    "                number+=dv\n",
    "                number  = round(number,3)\n",
    "            V = array(V)\n",
    "            matriz = []\n",
    "            for j in range(m):\n",
    "                col = []\n",
    "                for i in range(n):\n",
    "                    col.append(sts_all[j+(n-i-1)*n])\n",
    "                matriz.append(array(col))\n",
    "\n",
    "            nx = len(x);ny =len(y)\n",
    "            M_didv = [];M_dop=[];M_gap = []\n",
    "            for i in range(nx):\n",
    "                col_didv = [];col_dop = [];col_gap = []\n",
    "                for j in range(ny):\n",
    "\n",
    "                    dx,dy = didv(V,matriz[i][j])\n",
    "                    gap,typ,xmin,xmax = gap_type(dx,dy,delta/100)\n",
    "                    \n",
    "                    dyinterp = interpolate.interp1d(dx,dy)\n",
    "\n",
    "                    col_didv.append(dyinterp(V_thre))\n",
    "                    col_dop.append(round(typ,3))\n",
    "                    col_gap.append(round(gap,3))\n",
    "                M_didv.append(array(col_didv));M_dop.append(array(col_dop));M_gap.append(array(col_gap))\n",
    "\n",
    "            M_didv = array(M_didv);M_dop = array(M_dop);M_gap = array(M_gap)\n",
    "            return [x,y,[M_didv,M_gap,M_dop]]\n",
    "\n",
    "def didv(x,y):\n",
    "    h = x[1]-x[0]\n",
    "    deri_y = []; deri_x =[]\n",
    "    for i in range(1,len(x)-1):\n",
    "        d = (y[i+1]-y[i-1])/(2*h)\n",
    "        deri_x.append(x[i])\n",
    "        deri_y.append(d)\n",
    "    deri_y=array(deri_y)\n",
    "    return [array(deri_x),deri_y/deri_y.max()]\n",
    "\n",
    "def gap_type(dx,dy,delta):\n",
    "    f = interpolate.interp1d(dx, dy)\n",
    "    marker1 = False; marker2 = False\n",
    "\n",
    "    for i in range(len(dx)-1):\n",
    "        if dx[0]<0:\n",
    "            if dx[i]<=0 and dx[i+1]>=0:\n",
    "               indice_x0 = i\n",
    "               break\n",
    "    marker1 = False; marker2 = False\n",
    "\n",
    "    for i in range(len(dx)):\n",
    "        if dx[0]<0:\n",
    "          if i <= indice_x0:\n",
    "            j= indice_x0-i\n",
    "            if f(dx[j])<= delta and marker1 == False:\n",
    "                xmin = dx[j]\n",
    "            else:\n",
    "               marker1 = True\n",
    "\n",
    "          elif i > indice_x0:\n",
    "            j= i \n",
    "            if f(dx[j])<= delta and marker2 == False:\n",
    "                xmax = dx[j]\n",
    "            else:\n",
    "               marker2 = True\n",
    "               \n",
    "    try:\n",
    "        gap = xmax-xmin\n",
    "    except UnboundLocalError:\n",
    "        xmin = 0\n",
    "        xmax = 0\n",
    "        gap = 0\n",
    "    typ = abs(xmax) - abs(xmin)\n",
    "    return [round(gap,2),round(typ,2),xmin,xmax]\n",
    "\n",
    "def inter_x(x,y,z,dx = 100, dy= 100):\n",
    "\n",
    "    interp = interpolate.RegularGridInterpolator((x,y),z)\n",
    "    xnew = linspace(x.min(),x.max(),dx)\n",
    "    ynew = linspace(y.min(),y.max(),dy)\n",
    "    \n",
    "    M_int = []\n",
    "    for i in range(len(xnew)):\n",
    "        pts = []\n",
    "        for j in range(len(ynew)):\n",
    "            pts.append([xnew[i],ynew[j]])\n",
    "        pts = array(pts)\n",
    "        col = interp(pts)\n",
    "        M_int.append(array(col))\n",
    "    \n",
    "    return [xnew,ynew,array(M_int)]\n"
   ]
  },
  {
   "cell_type": "code",
   "execution_count": null,
   "metadata": {},
   "outputs": [
    {
     "name": "stdout",
     "output_type": "stream",
     "text": [
      "394.521 6.164390625\n"
     ]
    },
    {
     "data": {
      "image/png": "[encoded data removed]",
      "text/plain": [
       "<Figure size 640x480 with 1 Axes>"
      ]
     },
     "metadata": {},
     "output_type": "display_data"
    }
   ],
   "source": [
    "arquivo , V =map_spip_temp(path)\n",
    "\n",
    "fig, ax= plt.subplots()\n",
    "x,y,mapas =map_spip(arquivo)\n",
    "Y,X = meshgrid(y,x)\n",
    "M = mapas[0]\n",
    "im = ax.pcolormesh(X,Y,M)"
   ]
  },
  {
   "cell_type": "code",
   "execution_count": null,
   "metadata": {},
   "outputs": [],
   "source": []
  },
  {
   "cell_type": "code",
   "execution_count": null,
   "metadata": {},
   "outputs": [],
   "source": []
  }
 ],
 "metadata": {
  "kernelspec": {
   "display_name": "STMnanosurf",
   "language": "python",
   "name": "python3"
  },
  "language_info": {
   "codemirror_mode": {
    "name": "ipython",
    "version": 3
   },
   "file_extension": ".py",
   "mimetype": "text/x-python",
   "name": "python",
   "nbconvert_exporter": "python",
   "pygments_lexer": "ipython3",
   "version": "3.11.7"
  }
 },
 "nbformat": 4,
 "nbformat_minor": 2
}
