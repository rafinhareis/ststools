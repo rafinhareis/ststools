{
 "cells": [
  {
   "cell_type": "markdown",
   "metadata": {},
   "source": [
    "# 🧪 User Tutorial: STSTools\n",
    "\n",
    "**STSTools ** is a Python library for analyzing and visualizing Scanning Tunneling Spectroscopy (STS) data.  \n",
    "It supports data from **Nanosurf**, **Omicron **, and **Nanonis** instruments.\n",
    "\n",
    "This tutorial will guide you through the essential features of the package — from loading your data to generating publication-ready plots.\n",
    "\n",
    "---\n",
    "\n",
    "## 📝 About\n",
    "\n",
    "**STSTools** is a visualization and analysis software for STS files from:\n",
    "- 🧬 **Nanosurf**: `.nid` files (standard binary)\n",
    "- ⚛️ **Omicron**: `.txt` or `.ibw` files (IGOR format for grid maps) — ⚠️ *Do not rename files!*\n",
    "- 🧲 **Nanonis**: `.dat` files\n",
    "\n",
    "Developed and maintained by **Rafael dos Reis Barreto**  \n",
    "📧 Contact: [rafinhareis17@gmail.com](mailto:rafinhareis17@gmail.com)  \n",
    "📦 PyPI: [https://pypi.org/project/ststools/](https://pypi.org/project/ststools/)  \n",
    "💻 GitHub (source code): [https://github.com/rafinhareis/STSTools](https://github.com/rafinhareis/STSTools)\n",
    "\n",
    "> ❤️ If this tool helps you in your work, feel free to mention me in your paper =D\n",
    "\n",
    "---\n",
    "\n",
    "## 📦 Installation\n",
    "\n",
    "### 🔹 From PyPI (recommended)\n",
    "\n",
    "pip install ststools\n",
    "\n",
    "### 🔹 From source (development mode)\n",
    "\n",
    "$git clone https://github.com/rafinhareis/STSTools.git \n",
    "\n",
    "$cd STSTools \n",
    "\n",
    "pip install -e. "
   ]
  },
  {
   "cell_type": "markdown",
   "metadata": {},
   "source": [
    "## 🚀 Getting Started with STSTools\n",
    "\n",
    "Once you install and import the `ststools` package in a Jupyter environment, the interface is **automatically launched**, making it easy to load your data without writing any additional code.\n",
    "\n",
    "### ▶️ Step 1 — Import the Library\n",
    "\n",
    "```python\n",
    "import ststools\n",
    "\n",
    "🖥️ What You’ll See\n",
    "The interface includes the following elements:\n",
    "\n",
    "✅ Load STS Files — Load individual spectroscopy files (.nid, .dat, .txt)\n",
    "\n",
    "✅ Load Grid Files — Load 2D grid data files (.ibw for Omicron, for example)\n",
    "\n",
    "🔢 Rows / Columns — Used to define the grid size (for grid maps)\n",
    "\n",
    "☑️ STS Average for each file — Optionally average the curves when loading multiple files\n",
    "\n",
    "\n",
    "📂 File Format Support\n",
    "\n",
    "Format\tDescription\n",
    ".nid\tNanosurf files\n",
    ".txt, .ibw\tOmicron or IGOR grid\n",
    ".dat\tNanonis STS exports\n",
    "⚠️ Important: Do not rename .ibw or .dat files manually, as they depend on internal structure or metadata.\n",
    "\n",
    "📌 What Happens After Loading\n",
    "When files are loaded:\n",
    "\n",
    "Your data will be stored in the global variables STS (for spectroscopy) or STM (for image)\n",
    "\n",
    "You can now move on to analyzing, or plotting your spectra\n",
    "\n",
    "OBS: To avoid any problems is recommended to restart the kernel every time before a new data will be uploaded. "
   ]
  },
  {
   "cell_type": "code",
   "execution_count": 1,
   "metadata": {},
   "outputs": [
    {
     "data": {
      "application/vnd.jupyter.widget-view+json": {
       "model_id": "89999a9f1e984ec3aeda2b9b7873a52b",
       "version_major": 2,
       "version_minor": 0
      },
      "text/plain": [
       "HBox(children=(Image(value=b'\\x89PNG\\r\\n\\x1a\\n\\x00\\x00\\x00\\rIHDR\\x00\\x00\\x01-\\x00\\x00\\x01\\x8b\\x08\\x06\\x00\\x00\\…"
      ]
     },
     "metadata": {},
     "output_type": "display_data"
    },
    {
     "name": "stdout",
     "output_type": "stream",
     "text": [
      "Software de visualizacao de arquivos de STS Nanosurf e Omicron v7.0.0\n",
      "By Rafael Reis Barreto, contato rafinhareis17@gmail.com\n",
      "Github com o codigo fonte https://github.com/rafinhareis/ststools\n",
      "Repositorio Pypi https://pypi.org/project/ststools/ (nele voce pode conferir qual a versao mais atual)\n",
      "Arquivos Nanosurf tipo .nid \n",
      "Aquivos Omicron tipo .txt, ou .ibw (IGOR) para grid. NAO MUDAR O NOME DO ARQUIVO PADRAO\n",
      "Arquivos Nanonis tipo .dat \n",
      "Se sentir no fundo do coracaozinho, poe meu nome no artigo =D\n"
     ]
    }
   ],
   "source": [
    "import ststools"
   ]
  },
  {
   "cell_type": "markdown",
   "metadata": {},
   "source": [
    "## 📊 Data Visualization with `Display()`\n",
    "\n",
    "After loading your STS or grid data, use the `Display()` function to open the main analysis interface for curve inspection, normalization, and gap estimation.\n",
    "\n",
    "### ▶️ Step 2 — Launch the Display Interface\n",
    "\n",
    "```python\n",
    "ststools.Display()\n"
   ]
  },
  {
   "cell_type": "markdown",
   "metadata": {},
   "source": [
    "## 🧭 Available Controls\n",
    "\n",
    "The `Display()` interface includes several interactive elements to explore and analyze your STS data:\n",
    "\n",
    "| Control               | Description                                                 |\n",
    "|-----------------------|-------------------------------------------------------------|\n",
    "| **Curve Index**       | Select which curve to visualize (The source file name will appear as tittle of IxV curve)                            |\n",
    "| **Smoothing**         | Apply smoothing filter in percentage. (Default: 3%)                              |\n",
    "| **Method**            | Select interpolation method (e.g., `Savgol` or `Moving Average`)                |\n",
    "| **Plot Mode**         | Choose trace type: `forward`, `backward`, or  `Both` |\n",
    "| **List of Curves**    | List of curve numbers that will `NOT` be saved.               |\n",
    "| **Threshold**         | Set minimum threshold for gap detection  (%)               |\n",
    "| **Resolution**        | Determine the resolution to consider neutral doping in V. (Default = 0.010V )                    |\n",
    "| **X / Y Range**       | Limit plot view for better zoom              |\n",
    "| **Fit Range**         | Select voltage window for gap fitting the second derivative                      |\n",
    "| **Analysis Range**    | Voltage window used to fitting the second derivative (The neg. value MUST Be higher then fit. range neg. value. The pos. value MUST be lower then fit range pos. value )                  |\n",
    "| **Bins (Gap/Doping)** | Set number of bins for histogram visualization              |\n",
    "| **Plot Buttons**      | Plot average curve, histograms, second derivative, etc.     |\n",
    "| **Save Figure**         | Save the plot image.   |\n",
    "| **Save Data**         | Save the analyzed results and curve data to a `.csv` file   |\n",
    "\n",
    "---\n",
    "\n",
    "## 📈 Output Plots\n",
    "\n",
    "The interface generates two key plots for each selected curve:\n",
    "\n",
    "1. **Current vs Bias** — the IxV spectroscopy curve  .\n",
    "2. **dI/dV (normalized)** — the first derivative, dIxdV curve.\n",
    "3. **STM Image** — If STM image is present on the file, it will be depicted. (Nanosurf files)\n",
    "4. **Second Derivative** — If second derivative button is pressed, it will plot the second derivate, with a insert of the hyberbolic tan (if possible to fit).\n",
    "5. **Log curve** — If plot log button is pressed, it will plot the log of IxV curve.\n",
    "6. **Gap histogram** — If plot histogram  button is pressed, it will plot gap histogram of all curves.\n",
    "7. **Doping histogram** — If plot histogram  button is pressed, it will plot dopping histogram of all curves.\n",
    "8. **Gap vs Curve** - PLot the relation between the curve index and the gap the respective curve.\n",
    "\n",
    "\n",
    "If a gap is detected, its value is displayed on the plot:\n",
    "```text\n",
    "Gap = 3.07 eV, Tipo: p\n"
   ]
  },
  {
   "cell_type": "markdown",
   "metadata": {},
   "source": [
    "## 💾 Data Output\n",
    "\n",
    "Clicking on the **\"Save Data\"** button will generate a `.csv` file containing the following information for each analyzed curve:\n",
    "\n",
    "- 📐 **Gap value**  \n",
    "- 🧲 **Estimated doping type** (`n` or `p`)  \n",
    "- 🏷️ **Metadata extracted from the filename**  \n",
    "- ⚙️ **Analysis parameters** used during processing:\n",
    "  - Smoothing factor\n",
    "  - Derivative threshold\n",
    "  - Fit range\n",
    "\n",
    "This output file can be used for:\n",
    "\n",
    "- Statistical analysis (e.g., gap distribution)\n",
    "- Generating histograms or summary plots\n",
    "- Integration with external data workflows\n"
   ]
  },
  {
   "cell_type": "markdown",
   "metadata": {},
   "source": [
    "## 💾 CSV Output Files\n",
    "\n",
    "When you use the **\"Save Data\"** function from the `Display()` interface, several `.csv` files are generated. These contain the raw and processed spectroscopy data, ready for post-processing or visualization in external tools like Python, Excel or Origin.\n",
    "\n",
    "---\n",
    "\n",
    "### 📁 Output Summary\n",
    "\n",
    "| File | Description |\n",
    "|------|-------------|\n",
    "| **DataFrame_IxV.csv** | Raw current (I) vs voltage (V) curves for each spectrum. Includes all curves and averaged result. |\n",
    "| **DataFrame_dIxdV.csv** | First derivative (dI/dV) of each curve, used for bandgap analysis. |\n",
    "| **DataFrame_d2IxdV2.csv** | Second derivative of the spectra, useful for detecting fine features or electronic transitions. |\n",
    "| **DataFrame_logIxV.csv** | Log-transformed current values (log(I) vs V), often used to analyze tunneling regimes. |\n",
    "| **Hist.csv** | Histogram data from the extracted gap values and estimated doping type (`n` or `p`), used for population-level analysis. |\n",
    "\n",
    "---\n",
    "\n",
    "### 🧪 Sample: DataFrame_IxV.csv\n",
    "\n",
    "Each column pair in this file represents a curve:\n",
    "\n",
    "- `\"0-SB(V)\"` / `\"0-I(nA)\"` = voltage and current for curve 0  \n",
    "- `\"1-SB(V)\"` / `\"1-I(nA)\"` = curve 1  \n",
    "- ...\n",
    "- Last row includes **averaged** `V` and `I` as `V-Average` and `I-Average`\n",
    "\n",
    "This structure allows you to:\n",
    "- Plot all curves at once\n",
    "- Select and analyze individual spectra\n",
    "- Export the averaged STS profile\n",
    "\n",
    "---\n",
    "\n",
    "> Tip: You can load these files using `pandas.read_csv(\"DataFrame_IxV.csv\")` to create your own custom plots or integrate with your publication workflows.\n"
   ]
  },
  {
   "cell_type": "code",
   "execution_count": 3,
   "metadata": {},
   "outputs": [
    {
     "data": {
      "application/vnd.jupyter.widget-view+json": {
       "model_id": "d9bfaebc2b6e4ff7a54edcd33ff880fc",
       "version_major": 2,
       "version_minor": 0
      },
      "text/plain": [
       "VBox(children=(HBox(children=(VBox(children=(IntSlider(value=0, description='Curve Index', max=399), FloatSlid…"
      ]
     },
     "metadata": {},
     "output_type": "display_data"
    }
   ],
   "source": [
    "ststools.Display()"
   ]
  },
  {
   "cell_type": "markdown",
   "metadata": {},
   "source": [
    "## 🗺️ Spatial Mapping with `Map()`\n",
    "\n",
    "The `Map()` function in **STSTools** opens an interactive interface for exploring grid spectroscopy data (e.g., from `.ibw` files or 2D `.dat` sets). This interface allows you to visualize spatial distributions of current and dI/dV values and extract curves from individual points on the sample.\n",
    "\n",
    "### ▶️ Step — Launch Map Interface\n",
    "\n",
    "```python\n",
    "ststools.Map()\n"
   ]
  },
  {
   "cell_type": "markdown",
   "metadata": {},
   "source": [
    "### 🧭 Interface Overview\n",
    "\n",
    "| Element                  | Description                                                                 |\n",
    "|---------------------------|-----------------------------------------------------------------------------|\n",
    "| **Fixed V Bias**        | Define which voltage value will be used plot the current and derivative maps.|\n",
    "| **Map Type**              | Select the map to display: `I(V)`, `dI/dV`, `Integral`,  `Gap` or `doping`.                   |\n",
    "| **Row / Column sliders**  | Select the exact spatial point to extract STS curves from the grid as well the line map plot. |\n",
    "| **Save map**  | Save all the maps in asc format.      |\n",
    "| **Smoothing**         | Apply smoothing filter in percentage. (Default: 3%).                              |\n",
    "| **Outlier Range**       | Set intensity limits for map visualization (removes outliers from colormap). Default: 100%, that means it consider everything below 100% of the maximum value.|\n",
    "| **Outlier Method**       | Method to be used for eliminated outlier. (\"iqr\": Uses Interquartile Range to detect outliers or \"std\": Uses mean ± Outlier_Range * standard deviation.) |\n",
    "| **Color (Min/Max)**              | Choose the min and max value of the colobar.                          |\n",
    "| **Colormap**              | Choose a color scheme (`viridis`, `inferno`, etc.).                          |\n",
    "| **X/Y Bias Range**        | Define the voltage window (min/max) to calculate the integral map.|\n",
    "| **Threshold**             | Set minimum threshold for gap detection  (%)                               |\n",
    "| **Interpolate**             | If marked, generate interpolated maps                                |\n",
    "\n",
    "\n",
    "| **STS Map (middle)**      | Displays a bias map (bias vs position) based on current or dI/dV            |\n",
    "| **Bottom Panel**          | Shows both I(V) and dI/dV(V) curves at the selected grid coordinate         |\n",
    "\n",
    "---\n",
    "\n",
    "### 📈 What You’ll See\n",
    "\n",
    "- 🔲 **Left Panel**: Color map of the selected Map. Default Current. Interactive spatial position is represented by the red dot and dashed black lines.\n",
    "- 📊 **Center Panel**: Color map of the dIxdV over the x-axis at fixed y. \n",
    "- 🧪 **Right Panel** Color map of the dIxdV over the y-axis at fixed x. \n",
    "- 📍 **Bottom Panel**:\n",
    "  - I(V) curve extracted from the selected row/column\n",
    "  - First derivative (dI/dV) from the selected row/column"
   ]
  },
  {
   "cell_type": "markdown",
   "metadata": {},
   "source": [
    "### 💾 Output Options\n",
    "\n",
    "- Export selected spectra or maps to `.csv`\n",
    "- Save images of the color maps\n",
    "- Combine with `Display()` for deeper analysis of selected points\n"
   ]
  },
  {
   "cell_type": "code",
   "execution_count": 4,
   "metadata": {},
   "outputs": [
    {
     "data": {
      "application/vnd.jupyter.widget-view+json": {
       "model_id": "e72a1be09d564b47a7a1a5762e3ce168",
       "version_major": 2,
       "version_minor": 0
      },
      "text/plain": [
       "VBox(children=(HBox(children=(VBox(children=(FloatSlider(value=-1.0, description='Fixed V bias', max=1.01342, …"
      ]
     },
     "metadata": {},
     "output_type": "display_data"
    }
   ],
   "source": [
    "ststools.Map()\n"
   ]
  },
  {
   "cell_type": "code",
   "execution_count": null,
   "metadata": {},
   "outputs": [],
   "source": []
  }
 ],
 "metadata": {
  "kernelspec": {
   "display_name": "Python 3 (ipykernel)",
   "language": "python",
   "name": "python3"
  },
  "language_info": {
   "codemirror_mode": {
    "name": "ipython",
    "version": 3
   },
   "file_extension": ".py",
   "mimetype": "text/x-python",
   "name": "python",
   "nbconvert_exporter": "python",
   "pygments_lexer": "ipython3",
   "version": "3.11.7"
  }
 },
 "nbformat": 4,
 "nbformat_minor": 4
}
